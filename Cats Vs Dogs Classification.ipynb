{
 "cells": [
  {
   "cell_type": "markdown",
   "metadata": {},
   "source": [
    "## Cats Vs Dogs Classification"
   ]
  },
  {
   "cell_type": "code",
   "execution_count": 7,
   "metadata": {},
   "outputs": [
    {
     "data": {
      "text/plain": [
       "\"# This will require you doing a lot of data preprocessing because\\n# the dataset isn't split into training and validation for you\\n# This code block has all the required inputs\\nimport os\\nimport zipfile\\nimport random\\nimport tensorflow as tf\\nfrom tensorflow.keras.optimizers import RMSprop\\nfrom tensorflow.keras.preprocessing.image import ImageDataGenerator\\nfrom shutil import copyfile\""
      ]
     },
     "execution_count": 7,
     "metadata": {},
     "output_type": "execute_result"
    }
   ],
   "source": [
    "# This will require you doing a lot of data preprocessing because\n",
    "# the dataset isn't split into training and validation for you\n",
    "# This code block has all the required inputs\n",
    "import os\n",
    "import zipfile\n",
    "import random\n",
    "import tensorflow as tf\n",
    "from tensorflow.keras.optimizers import RMSprop\n",
    "from tensorflow.keras.preprocessing.image import ImageDataGenerator\n",
    "from shutil import copyfile"
   ]
  },
  {
   "cell_type": "markdown",
   "metadata": {},
   "source": [
    "#### Two way to import the data \n",
    "1st one "
   ]
  },
  {
   "cell_type": "code",
   "execution_count": 8,
   "metadata": {},
   "outputs": [
    {
     "data": {
      "text/plain": [
       "'\\n!wget --no-check-certificate     \"https://download.microsoft.com/download/3/E/1/3E1C3F21-ECDB-4869-8368-6DEBA77B919F/kagglecatsanddogs_3367a.zip\"     -O r\"C:/Users/Santosh/becode/04.Deep_Learning/00.Deep_Neural_Networks/02.Convolutional_Neural_Networks/tmp/cats-and-dogs.zip\"\\n\\nlocal_zip = r\"C:/Users/Santosh/becode/04.Deep_Learning/00.Deep_Neural_Networks/02.Convolutional_Neural_Networks/tmp/cats-and-dogs.zip\"\\nzip_ref = zipfile.ZipFile(local_zip, \\'r\\')\\nzip_ref.extractall(\\'/tmp\\')\\nzip_ref.close()'"
      ]
     },
     "execution_count": 8,
     "metadata": {},
     "output_type": "execute_result"
    }
   ],
   "source": [
    "# This code block downloads the full Cats-v-Dogs dataset and stores it as \n",
    "# cats-and-dogs.zip. It then unzips it to /tmp\n",
    "# which will create a tmp/PetImages directory containing subdirectories\n",
    "# called 'Cat' and 'Dog' (that's how the original researchers structured it)\n",
    "# If the URL doesn't work, \n",
    "# .   visit https://www.microsoft.com/en-us/download/confirmation.aspx?id=54765\n",
    "# And right click on the 'Download Manually' link to get a new URL\n",
    "'''\n",
    "!wget --no-check-certificate \\\n",
    "    \"https://download.microsoft.com/download/3/E/1/3E1C3F21-ECDB-4869-8368-6DEBA77B919F/kagglecatsanddogs_3367a.zip\" \\\n",
    "    -O r\"C:/Users/Santosh/becode/04.Deep_Learning/00.Deep_Neural_Networks/02.Convolutional_Neural_Networks/tmp/cats-and-dogs.zip\"\n",
    "\n",
    "local_zip = r\"C:/Users/Santosh/becode/04.Deep_Learning/00.Deep_Neural_Networks/02.Convolutional_Neural_Networks/tmp/cats-and-dogs.zip\"\n",
    "zip_ref = zipfile.ZipFile(local_zip, 'r')\n",
    "zip_ref.extractall('/tmp')\n",
    "zip_ref.close()'''"
   ]
  },
  {
   "cell_type": "markdown",
   "metadata": {},
   "source": [
    "2nd one "
   ]
  },
  {
   "cell_type": "code",
   "execution_count": null,
   "metadata": {},
   "outputs": [],
   "source": [
    "!curl -O https://download.microsoft.com/download/3/E/1/3E1C3F21-ECDB-4869-8368-6DEBA77B919F/kagglecatsanddogs_3367a.zip"
   ]
  },
  {
   "cell_type": "code",
   "execution_count": null,
   "metadata": {},
   "outputs": [],
   "source": [
    "from zipfile import ZipFile\n",
    "zf = ZipFile(r'C:\\Users\\Santosh\\becode\\04.Deep_Learning\\00.Deep_Neural_Networks\\01.Keras\\kagglecatsanddogs_3367a.zip','r')\n",
    "zf.extractall(r'C:\\Users\\Santosh\\becode\\04.Deep_Learning\\00.Deep_Neural_Networks\\01.Keras\\Kegaalecatsndogs')\n",
    "zf.close()"
   ]
  },
  {
   "cell_type": "code",
   "execution_count": 15,
   "metadata": {},
   "outputs": [
    {
     "name": "stdout",
     "output_type": "stream",
     "text": [
      "11749\n",
      "11675\n"
     ]
    }
   ],
   "source": [
    "print(len(os.listdir(r'C:\\Users\\Santosh\\becode\\04.Deep_Learning\\00.Deep_Neural_Networks\\01.Keras\\Kegaalecatsndogs\\PetImages\\Cat')))\n",
    "print(len(os.listdir(r'C:\\Users\\Santosh\\becode\\04.Deep_Learning\\00.Deep_Neural_Networks\\01.Keras\\Kegaalecatsndogs\\PetImages\\Dog')))"
   ]
  },
  {
   "cell_type": "code",
   "execution_count": 10,
   "metadata": {},
   "outputs": [],
   "source": [
    "\n",
    "# Use os.mkdir to create your directories\n",
    "# You will need a directory for cats-v-dogs, and subdirectories for training\n",
    "# and testing. These in turn will need subdirectories for 'cats' and 'dogs'\n",
    "try:\n",
    "    #os.mkdir('/tmp/cats-v-dogs')\n",
    "    os.mkdir(r'C:\\Users\\Santosh\\becode\\04.Deep_Learning\\00.Deep_Neural_Networks\\01.Keras\\Kegaalecatsndogs\\PetImages\\training')\n",
    "    os.mkdir(r'C:\\Users\\Santosh\\becode\\04.Deep_Learning\\00.Deep_Neural_Networks\\01.Keras\\Kegaalecatsndogs\\PetImages\\testing')\n",
    "    os.mkdir(r'C:\\Users\\Santosh\\becode\\04.Deep_Learning\\00.Deep_Neural_Networks\\01.Keras\\Kegaalecatsndogs\\PetImages\\training\\cats')\n",
    "    os.mkdir(r'C:\\\\Users\\Santosh\\becode\\04.Deep_Learning\\00.Deep_Neural_Networks\\01.Keras\\Kegaalecatsndogs\\PetImages\\training\\dogs')\n",
    "    os.mkdir(r'C:\\Users\\Santosh\\becode\\04.Deep_Learning\\00.Deep_Neural_Networks\\01.Keras\\Kegaalecatsndogs\\PetImages\\testing\\cats')\n",
    "    os.mkdir(r'C:\\Users\\Santosh\\becode\\04.Deep_Learning\\00.Deep_Neural_Networks\\01.Keras\\Kegaalecatsndogs\\PetImages\\testing\\dogs')\n",
    "except OSError:\n",
    "    pass"
   ]
  },
  {
   "cell_type": "code",
   "execution_count": 21,
   "metadata": {},
   "outputs": [],
   "source": [
    "# Write a python function called split_data which takes\n",
    "# a SOURCE directory containing the files\n",
    "# a TRAINING directory that a portion of the files will be copied to\n",
    "# a TESTING directory that a portion of the files will be copie to\n",
    "# a SPLIT SIZE to determine the portion\n",
    "# The files should also be randomized, so that the training set is a random\n",
    "# X% of the files, and the test set is the remaining files\n",
    "# SO, for example, if SOURCE is PetImages/Cat, and SPLIT SIZE is .9\n",
    "# Then 90% of the images in PetImages/Cat will be copied to the TRAINING dir\n",
    "# and 10% of the images will be copied to the TESTING dir\n",
    "# Also -- All images should be checked, and if they have a zero file length,\n",
    "# they will not be copied over\n",
    "#\n",
    "# os.listdir(DIRECTORY) gives you a listing of the contents of that directory\n",
    "# os.path.getsize(PATH) gives you the size of the file\n",
    "# copyfile(source, destination) copies a file from source to destination\n",
    "# random.sample(list, len(list)) shuffles a list\n",
    "\n",
    "def split_data(SOURCE, TRAINING, TESTING, SPLIT_SIZE):\n",
    "    dataset = []\n",
    "    \n",
    "    for unitData in os.listdir(SOURCE):\n",
    "        data = SOURCE + \"/\" + unitData\n",
    "        if (os.path.getsize(data) > 0):\n",
    "            dataset.append(unitData)\n",
    "        else:\n",
    "            print('Skipped ' + unitData)\n",
    "            print('Invalid file size! i.e Zero length.')\n",
    "    \n",
    "    train_data_length = int(len(dataset) * SPLIT_SIZE)\n",
    "    test_data_length = int(len(dataset) - train_data_length)\n",
    "    shuffled_set = random.sample(dataset, len(dataset))\n",
    "    train_set = shuffled_set[0:train_data_length]\n",
    "    test_set = shuffled_set[-test_data_length:]\n",
    "    \n",
    "    for unitData in train_set:\n",
    "        temp_train_data = SOURCE + \"/\" + unitData\n",
    "        final_train_data = TRAINING + \"/\" + unitData\n",
    "        copyfile(temp_train_data, final_train_data)\n",
    "    \n",
    "    for unitData in test_set:\n",
    "        temp_test_data = SOURCE + \"/\" + unitData\n",
    "        final_test_data = TESTING + \"/\" + unitData\n",
    "        copyfile(temp_train_data, final_test_data)\n",
    "        \n",
    "        \n",
    "CAT_SOURCE_DIR = r\"C:/Users/Santosh/becode/04.Deep_Learning/00.Deep_Neural_Networks/01.Keras/Kegaalecatsndogs/PetImages/Cat\"\n",
    "TRAINING_CATS_DIR = r\"C:/Users/Santosh/becode/04.Deep_Learning/00.Deep_Neural_Networks/01.Keras/Kegaalecatsndogs/PetImages/training/cats\"\n",
    "TESTING_CATS_DIR = r\"C:/Users/Santosh/becode/04.Deep_Learning/00.Deep_Neural_Networks/01.Keras/Kegaalecatsndogs/PetImages/testing/cats\"\n",
    "DOG_SOURCE_DIR = r\"C:/Users/Santosh/becode/04.Deep_Learning/00.Deep_Neural_Networks/01.Keras/Kegaalecatsndogs/PetImages/Dog\"\n",
    "TRAINING_DOGS_DIR = r\"C:/Users/Santosh/becode/04.Deep_Learning/00.Deep_Neural_Networks/01.Keras/Kegaalecatsndogs/PetImages/training/dogs\"\n",
    "TESTING_DOGS_DIR = r\"C:/Users/Santosh/becode/04.Deep_Learning/00.Deep_Neural_Networks/01.Keras/Kegaalecatsndogs/PetImages/testing/dogs\"\n",
    "\n",
    "split_size = .8\n",
    "split_data(CAT_SOURCE_DIR, TRAINING_CATS_DIR, TESTING_CATS_DIR, split_size)\n",
    "split_data(DOG_SOURCE_DIR, TRAINING_DOGS_DIR, TESTING_DOGS_DIR, split_size)\n"
   ]
  },
  {
   "cell_type": "code",
   "execution_count": 22,
   "metadata": {},
   "outputs": [
    {
     "name": "stdout",
     "output_type": "stream",
     "text": [
      "11749\n",
      "9399\n",
      "4220\n",
      "11675\n",
      "9340\n",
      "4217\n"
     ]
    }
   ],
   "source": [
    "print(len(os.listdir(r\"C:/Users/Santosh/becode/04.Deep_Learning/00.Deep_Neural_Networks/01.Keras/Kegaalecatsndogs/PetImages/Cat/\")))\n",
    "print(len(os.listdir(r\"C:/Users/Santosh/becode/04.Deep_Learning/00.Deep_Neural_Networks/01.Keras/Kegaalecatsndogs/PetImages/training/cats/\")))\n",
    "print(len(os.listdir(r\"C:/Users/Santosh/becode/04.Deep_Learning/00.Deep_Neural_Networks/01.Keras/Kegaalecatsndogs/PetImages/testing/cats/\")))\n",
    "print(len(os.listdir(r\"C:/Users/Santosh/becode/04.Deep_Learning/00.Deep_Neural_Networks/01.Keras/Kegaalecatsndogs/PetImages/Dog/\")))\n",
    "print(len(os.listdir(r\"C:/Users/Santosh/becode/04.Deep_Learning/00.Deep_Neural_Networks/01.Keras/Kegaalecatsndogs/PetImages/training/dogs/\")))\n",
    "print(len(os.listdir(r\"C:/Users/Santosh/becode/04.Deep_Learning/00.Deep_Neural_Networks/01.Keras/Kegaalecatsndogs/PetImages/testing/dogs/\")))            "
   ]
  },
  {
   "cell_type": "code",
   "execution_count": 24,
   "metadata": {},
   "outputs": [],
   "source": [
    "# DEFINE A KERAS MODEL TO CLASSIFY CATS V DOGS\n",
    "# USE AT LEAST 3 CONVOLUTION LAYERS\n",
    "model = tf.keras.models.Sequential([\n",
    "        tf.keras.layers.Conv2D(16, (3,3), activation='relu', input_shape=(150, 150, 3)),\n",
    "    tf.keras.layers.MaxPool2D(2,2),\n",
    "    \n",
    "    tf.keras.layers.Conv2D(32, (3,3), activation='relu'),\n",
    "    tf.keras.layers.MaxPooling2D(2,2),\n",
    "    \n",
    "    tf.keras.layers.Conv2D(64, (3,3), activation='relu'),\n",
    "    tf.keras.layers.MaxPooling2D(2,2),\n",
    "    \n",
    "    tf.keras.layers.Flatten(),\n",
    "    tf.keras.layers.Dense(512, activation='relu'),\n",
    "    tf.keras.layers.Dense(1, activation='sigmoid')\n",
    "])\n",
    "\n",
    "model.compile(optimizer=RMSprop(lr=0.001), loss='binary_crossentropy', metrics=['accuracy'])"
   ]
  },
  {
   "cell_type": "code",
   "execution_count": 26,
   "metadata": {},
   "outputs": [
    {
     "name": "stdout",
     "output_type": "stream",
     "text": [
      "Found 18737 images belonging to 2 classes.\n",
      "Found 8437 images belonging to 2 classes.\n"
     ]
    }
   ],
   "source": [
    "\n",
    "TRAINING_DIR =  r\"C:\\Users\\Santosh\\becode\\04.Deep_Learning\\00.Deep_Neural_Networks\\01.Keras\\Kegaalecatsndogs\\PetImages\\training\"\n",
    "train_datagen = ImageDataGenerator(rescale=1.0/255)\n",
    "train_generator = train_datagen.flow_from_directory(TRAINING_DIR, \n",
    "                                                    batch_size=10, \n",
    "                                                    class_mode='binary', \n",
    "                                                    target_size=(150, 150))\n",
    "\n",
    "VALIDATION_DIR = r\"C:\\Users\\Santosh\\becode\\04.Deep_Learning\\00.Deep_Neural_Networks\\01.Keras\\Kegaalecatsndogs\\PetImages\\testing\"\n",
    "validation_datagen = ImageDataGenerator(rescale=1.0/255)\n",
    "validation_generator = train_datagen.flow_from_directory(VALIDATION_DIR, \n",
    "                                                         batch_size=10, \n",
    "                                                         class_mode='binary', \n",
    "                                                         target_size=(150, 150))"
   ]
  },
  {
   "cell_type": "code",
   "execution_count": 27,
   "metadata": {},
   "outputs": [
    {
     "name": "stdout",
     "output_type": "stream",
     "text": [
      "Epoch 1/15\n",
      "1874/1874 [==============================] - 913s 485ms/step - loss: 0.6835 - accuracy: 0.6498 - val_loss: 0.1942 - val_accuracy: 1.0000\n",
      "Epoch 2/15\n",
      "1874/1874 [==============================] - 1112s 593ms/step - loss: 0.4716 - accuracy: 0.7847 - val_loss: 0.1689 - val_accuracy: 1.0000\n",
      "Epoch 3/15\n",
      "1874/1874 [==============================] - 1234s 658ms/step - loss: 0.4212 - accuracy: 0.8195 - val_loss: 0.2318 - val_accuracy: 1.0000\n",
      "Epoch 4/15\n",
      "1874/1874 [==============================] - 996s 532ms/step - loss: 0.4096 - accuracy: 0.8270 - val_loss: 0.1056 - val_accuracy: 1.0000\n",
      "Epoch 5/15\n",
      "1874/1874 [==============================] - 1276s 681ms/step - loss: 0.3852 - accuracy: 0.8431 - val_loss: 0.0914 - val_accuracy: 1.0000\n",
      "Epoch 6/15\n",
      "1874/1874 [==============================] - 1714s 914ms/step - loss: 0.3780 - accuracy: 0.8512 - val_loss: 0.0841 - val_accuracy: 1.0000\n",
      "Epoch 7/15\n",
      "1874/1874 [==============================] - 1505s 803ms/step - loss: 0.3654 - accuracy: 0.8527 - val_loss: 0.1288 - val_accuracy: 1.0000\n",
      "Epoch 8/15\n",
      "1874/1874 [==============================] - 1310s 699ms/step - loss: 0.3582 - accuracy: 0.8555 - val_loss: 0.0522 - val_accuracy: 1.0000\n",
      "Epoch 9/15\n",
      "1874/1874 [==============================] - 1035s 552ms/step - loss: 0.3462 - accuracy: 0.8637 - val_loss: 0.0228 - val_accuracy: 1.0000\n",
      "Epoch 10/15\n",
      "1874/1874 [==============================] - 882s 471ms/step - loss: 0.3443 - accuracy: 0.8615 - val_loss: 0.1151 - val_accuracy: 1.0000\n",
      "Epoch 11/15\n",
      "1874/1874 [==============================] - 865s 462ms/step - loss: 0.3355 - accuracy: 0.8680 - val_loss: 0.0635 - val_accuracy: 1.0000\n",
      "Epoch 12/15\n",
      "1874/1874 [==============================] - 1259s 672ms/step - loss: 0.3322 - accuracy: 0.8678 - val_loss: 0.1193 - val_accuracy: 1.0000\n",
      "Epoch 13/15\n",
      "1874/1874 [==============================] - 1198s 639ms/step - loss: 0.3336 - accuracy: 0.8738 - val_loss: 0.0226 - val_accuracy: 1.0000\n",
      "Epoch 14/15\n",
      "1874/1874 [==============================] - 1173s 626ms/step - loss: 0.3141 - accuracy: 0.8762 - val_loss: 0.0977 - val_accuracy: 1.0000\n",
      "Epoch 15/15\n",
      "1874/1874 [==============================] - 1014s 541ms/step - loss: 0.3037 - accuracy: 0.8851 - val_loss: 0.0543 - val_accuracy: 1.0000\n"
     ]
    }
   ],
   "source": [
    "history = model.fit(train_generator,\n",
    "                              epochs=15,\n",
    "                              verbose=1,\n",
    "                              validation_data=validation_generator)\n",
    "\n",
    "# The expectation here is that the model will train, and that accuracy will be > 95% on both training and validation\n",
    "# i.e. acc:A1 and val_acc:A2 will be visible, and both A1 and A2 will be > .9"
   ]
  },
  {
   "cell_type": "code",
   "execution_count": 29,
   "metadata": {},
   "outputs": [
    {
     "data": {
      "text/plain": [
       "Text(0.5, 1.0, 'Training and validation loss')"
      ]
     },
     "execution_count": 29,
     "metadata": {},
     "output_type": "execute_result"
    },
    {
     "data": {
      "image/png": "[encoded data removed]",
      "text/plain": [
       "<Figure size 432x288 with 1 Axes>"
      ]
     },
     "metadata": {
      "needs_background": "light"
     },
     "output_type": "display_data"
    },
    {
     "data": {
      "image/png": "[encoded data removed]",
      "text/plain": [
       "<Figure size 432x288 with 1 Axes>"
      ]
     },
     "metadata": {
      "needs_background": "light"
     },
     "output_type": "display_data"
    }
   ],
   "source": [
    "# PLOT LOSS AND ACCURACY\n",
    "%matplotlib inline\n",
    "\n",
    "import matplotlib.image  as mpimg\n",
    "import matplotlib.pyplot as plt\n",
    "\n",
    "#-----------------------------------------------------------\n",
    "# Retrieve a list of list results on training and test data\n",
    "# sets for each training epoch\n",
    "#-----------------------------------------------------------\n",
    "acc=history.history['accuracy']\n",
    "val_acc=history.history['val_accuracy']\n",
    "loss=history.history['loss']\n",
    "val_loss=history.history['val_loss']\n",
    "\n",
    "epochs=range(len(acc)) # Get number of epochs\n",
    "\n",
    "#------------------------------------------------\n",
    "# Plot training and validation accuracy per epoch\n",
    "#------------------------------------------------\n",
    "plt.plot(epochs, acc, 'r', \"Training Accuracy\")\n",
    "plt.plot(epochs, val_acc, 'b', \"Validation Accuracy\")\n",
    "plt.title('Training and validation accuracy')\n",
    "plt.figure()\n",
    "\n",
    "#------------------------------------------------\n",
    "# Plot training and validation loss per epoch\n",
    "#------------------------------------------------\n",
    "plt.plot(epochs, loss, 'r', \"Training Loss\")\n",
    "plt.plot(epochs, val_loss, 'b', \"Validation Loss\")\n",
    "\n",
    "plt.title('Training and validation loss')\n",
    "\n",
    "# Desired output. Charts with training and validation metrics. No crash :)"
   ]
  },
  {
   "cell_type": "code",
   "execution_count": 31,
   "metadata": {},
   "outputs": [
    {
     "data": {
      "text/plain": [
       "'import numpy as np\\nfrom google.colab import files\\nfrom keras.preprocessing import image\\n\\nuploaded = files.upload()\\n\\nfor fn in uploaded.keys():\\n \\n  # predicting images\\n  path = \\'/content/\\' + fn\\n  img = image.load_img(path, target_size=(# YOUR CODE HERE))\\n  x = image.img_to_array(img)\\n  x = np.expand_dims(x, axis=0)\\n\\n  images = np.vstack([x])\\n  classes = model.predict(images, batch_size=10)\\n  print(classes[0])\\n  if classes[0]>0.5:\\n    print(fn + \" is a dog\")\\n  else:\\n    print(fn + \" is a cat\")'"
      ]
     },
     "execution_count": 31,
     "metadata": {},
     "output_type": "execute_result"
    }
   ],
   "source": [
    "\n",
    "# Here's a codeblock just for fun. You should be able to upload an image here \n",
    "# and have it classified without crashing\n",
    "\n",
    "'''import numpy as np\n",
    "from google.colab import files\n",
    "from keras.preprocessing import image\n",
    "\n",
    "uploaded = files.upload()\n",
    "\n",
    "for fn in uploaded.keys():\n",
    " \n",
    "  # predicting images\n",
    "  path = '/content/' + fn\n",
    "  img = image.load_img(path, target_size=(# YOUR CODE HERE))\n",
    "  x = image.img_to_array(img)\n",
    "  x = np.expand_dims(x, axis=0)\n",
    "\n",
    "  images = np.vstack([x])\n",
    "  classes = model.predict(images, batch_size=10)\n",
    "  print(classes[0])\n",
    "  if classes[0]>0.5:\n",
    "    print(fn + \" is a dog\")\n",
    "  else:\n",
    "    print(fn + \" is a cat\")'''"
   ]
  },
  {
   "cell_type": "code",
   "execution_count": null,
   "metadata": {},
   "outputs": [],
   "source": [
    "'''# Creating some predictions.\n",
    "from sklearn.model_selection import cross_val_predict\n",
    "y_train_pred = cross_val_predict(sgd_clf, X_train, y_train_5, cv=3)\n",
    "\n",
    "\"\"\"\n",
    "You could make predictions on the test set, but use the test set only at the very end of your project, once you have a classifier that you are ready to launch.\n",
    "\"\"\"\n",
    "\n",
    "# Constructing the confusion matrix.\n",
    "from sklearn.metrics import confusion_matrix\n",
    "confusion_matrix(y_train_5, y_train_pred)\n",
    "\n",
    "# Finding precision and recall\n",
    "from sklearn.metrics import precision_score, recall_score\n",
    "precision_score(y_train_5, y_train_pred)\n",
    "recall_score(y_train_5, y_train_pred)\n",
    "\n",
    "# To compute the F1 score, simply call the f1_score() function:\n",
    "from sklearn.metrics import f1_score\n",
    "f1_score(y_train_5, y_train_pred)'''"
   ]
  }
 ],
 "metadata": {
  "kernelspec": {
   "display_name": "dl",
   "language": "python",
   "name": "dl"
  },
  "language_info": {
   "codemirror_mode": {
    "name": "ipython",
    "version": 3
   },
   "file_extension": ".py",
   "mimetype": "text/x-python",
   "name": "python",
   "nbconvert_exporter": "python",
   "pygments_lexer": "ipython3",
   "version": "3.7.8"
  }
 },
 "nbformat": 4,
 "nbformat_minor": 4
}
